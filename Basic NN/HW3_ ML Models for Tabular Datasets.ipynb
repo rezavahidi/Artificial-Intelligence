{
 "cells": [
  {
   "cell_type": "markdown",
   "id": "52d3a943",
   "metadata": {},
   "source": [
    "<img src='http://www-scf.usc.edu/~ghasemig/images/sharif.png' alt=\"SUT logo\" width=200 height=200 align=left class=\"saturate\" >\n",
    "\n",
    "<br>\n",
    "<font face=\"Times New Roman\">\n",
    "<div dir=ltr align=center>\n",
    "<font color=0F5298 size=7>\n",
    "    Introduction to Machine Learning <br>\n",
    "<font color=2565AE size=5>\n",
    "    Computer Engineering Department <br>\n",
    "    Fall 2022<br>\n",
    "<font color=3C99D size=5>\n",
    "    Homework 3: Practical - ML Models for Tabular Datasets <br>\n",
    "<font color=696880 size=4>\n",
    "    Niloufar Razani \n",
    "    \n",
    "    \n",
    "____"
   ]
  },
  {
   "cell_type": "markdown",
   "id": "afcf1f24",
   "metadata": {},
   "source": [
    "### Full Name : reza vahidimajd\n",
    "### Student Number : 99102491\n",
    "___"
   ]
  },
  {
   "cell_type": "markdown",
   "id": "8c097381",
   "metadata": {},
   "source": [
    "<font face=\"Times New Roman\" size=4><div dir=ltr>\n",
    "In this homework we are going to implement Adaboost algorithm from scratch. Please read this chapter's <a href=\"https://github.com/asharifiz/Introduction_to_Machine_Learning/tree/main/Jupyter_Notebooks/Chapter_04_Tabular_Data_Models\"><font face=\"Roboto\">notebook</font></a> and then complete the #TODO sections. <br>\n",
    "We will use the heart_disease.csv dataset, which you can see more details about in this <a href=\"https://www.kaggle.com/datasets/johnsmith88/heart-disease-dataset?resource=download&select=heart.csv\"><font face=\"Roboto\">Link</font></a>.\n",
    "___"
   ]
  },
  {
   "cell_type": "code",
   "execution_count": 1,
   "id": "1a687a71",
   "metadata": {},
   "outputs": [],
   "source": [
    "import numpy as np\n",
    "import pandas as pd\n",
    "import seaborn as sns\n",
    "import matplotlib.pyplot as plt"
   ]
  },
  {
   "cell_type": "markdown",
   "id": "3b152c1e",
   "metadata": {},
   "source": [
    "### Data Prepration (10 points) \n",
    "1.   Load Dataset\n",
    "2.   Separate target feaure\n",
    "3.   Change class labels to 1 and -1\n",
    "4.   Do train-test split"
   ]
  },
  {
   "cell_type": "code",
   "execution_count": 2,
   "id": "159d3986",
   "metadata": {},
   "outputs": [
    {
     "name": "stdout",
     "output_type": "stream",
     "text": [
      "-1\n",
      "[[41.  1.  2. ...  2.  0.  2.]\n",
      " [58.  1.  1. ...  1.  4.  3.]\n",
      " [50.  1.  0. ...  1.  0.  3.]\n",
      " ...\n",
      " [51.  1.  0. ...  2.  0.  3.]\n",
      " [43.  1.  0. ...  2.  0.  3.]\n",
      " [52.  1.  0. ...  2.  1.  2.]]\n"
     ]
    }
   ],
   "source": [
    "#TODO\n",
    "\n",
    "import warnings\n",
    "warnings.simplefilter(action='ignore', category=FutureWarning)\n",
    "\n",
    "df = pd.read_csv(\"heart_disease.csv\")\n",
    "\n",
    "\n",
    "target = df[\"target\"]\n",
    "df.drop(columns = [\"target\"], inplace = True)\n",
    "\n",
    "target = target.replace(0, -1)\n",
    "\n",
    "from sklearn.model_selection import train_test_split\n",
    "x_train, x_test, y_train, y_test = train_test_split(df, target, test_size = 0.33, random_state = 42)\n",
    "\n",
    "print(y_train.iloc[-1])\n",
    "print(x_train.to_numpy())\n"
   ]
  },
  {
   "cell_type": "markdown",
   "id": "695a1fc7",
   "metadata": {},
   "source": [
    "### Adaboost Algorithm Implementation (40 points)"
   ]
  },
  {
   "cell_type": "code",
   "execution_count": 3,
   "id": "95f76156",
   "metadata": {},
   "outputs": [],
   "source": [
    "from sklearn.tree import DecisionTreeClassifier\n",
    "\n",
    "def calculate_error(y, y_pred, w):\n",
    "    #TODO : Calculate the weighted error of a weak classifier.\n",
    "    sum_diff = 0\n",
    "    for i in range(len(y)):\n",
    "        if y[i] != y_pred[i]:\n",
    "            sum_diff += w[i]\n",
    "    return sum_diff / sum(w)\n",
    "    \n",
    "\n",
    "def calculate_alpha(error):\n",
    "    #TODO : Calculate the weight of a weak classifier.\n",
    "    return np.log((1 - error) / error)\n",
    "    \n",
    "\n",
    "def update_weights(w, alpha, y, y_pred):\n",
    "    #TODO : Update weights after a boosting iteration.\n",
    "    for i in range(len(y)):\n",
    "        if y[i] != y_pred[i]:\n",
    "            w[i] *= np.exp(alpha)\n",
    "            \n",
    "    return [float(i)/sum(w) for i in w]\n",
    "    \n",
    "\n",
    "    \n",
    "class AdaBoost:\n",
    "    \n",
    "    def __init__(self):\n",
    "        self.alphas = []\n",
    "        self.G_M = []\n",
    "        self.training_errors = []\n",
    "\n",
    "    def fit(self, X, y, M = 100):\n",
    "        \n",
    "        self.alphas = [] \n",
    "        self.training_errors = []\n",
    "        self.M = M\n",
    "        \n",
    "        pred_ys = []\n",
    "        \n",
    "        w = []\n",
    "        for m in range(0, M):\n",
    "            \n",
    "            # Set weights\n",
    "            if m == 0:\n",
    "                #TODO\n",
    "                w = []\n",
    "                for i in range(len(y)):\n",
    "                    w.append(1 / len(y))\n",
    "                \n",
    "            else:\n",
    "                #TODO\n",
    "                w = w / np.sum(w)\n",
    "                \n",
    "            \n",
    "            # 1. Fit weak classifier and predict labels(using predict method) and Save it to list of weak classifiers.\n",
    "            #TODO\n",
    "            clf = DecisionTreeClassifier(max_depth = 1)\n",
    "            clf = clf.fit(X, y, sample_weight= w)\n",
    "            y_pred = clf.predict(X)\n",
    "            pred_ys.append(y_pred)\n",
    "            self.G_M.append(clf)\n",
    "\n",
    "            # 2. Calculate error of this weak classifier and save it to list of trainingterrors.\n",
    "            #TODO\n",
    "            \n",
    "            self.training_errors.append(calculate_error(y, pred_ys[-1], w))\n",
    "\n",
    "            # 3. Calculate alpha of this weak classifier and save it to list of alphas.\n",
    "            #TODO\n",
    "            \n",
    "            self.alphas.append(calculate_alpha(self.training_errors[-1]))\n",
    "            \n",
    "            w = update_weights(w, self.alphas[-1], y, pred_ys[-1])\n",
    "\n",
    "\n",
    "    def predict(self, X):\n",
    "\n",
    "        weak_preds = pd.DataFrame(index = range(len(X)), columns = range(self.M)) \n",
    "\n",
    "        for m in range(self.M):\n",
    "            y_pred_m = self.G_M[m].predict(X) * self.alphas[m]\n",
    "            weak_preds.iloc[:,m] = y_pred_m\n",
    "\n",
    "        y_pred = (1 * np.sign(weak_preds.T.sum())).astype(int)\n",
    "\n",
    "        return y_pred"
   ]
  },
  {
   "cell_type": "markdown",
   "id": "f27f8987",
   "metadata": {},
   "source": [
    "### Training and Evaluation (20 points)"
   ]
  },
  {
   "cell_type": "code",
   "execution_count": 4,
   "id": "2986c7a1",
   "metadata": {},
   "outputs": [
    {
     "name": "stdout",
     "output_type": "stream",
     "text": [
      "accuracy:  0.8466076696165191\n",
      "precission:  0.8411764705882353 0.8520710059171598\n",
      "recall:  0.8511904761904762 0.8421052631578947\n",
      "f1 score:  0.8461538461538461 0.8470588235294118\n"
     ]
    }
   ],
   "source": [
    "#TODO : Fit model\n",
    "\n",
    "adaBoost = AdaBoost()\n",
    "adaBoost.fit(x_train.to_numpy(), y_train.to_numpy())\n",
    "\n",
    "#TODO : Predict on test data\n",
    "\n",
    "y_pred = adaBoost.predict(x_test.to_numpy())\n",
    "\n",
    "#TODO : Print evaluation metrics (Accurcy, Precission, Recall and f-score)\n",
    "\n",
    "from sklearn import metrics\n",
    "accuracy = metrics.accuracy_score(y_test, y_pred)\n",
    "print(\"accuracy:  \" + str(accuracy))\n",
    "precision_positive = metrics.precision_score(y_test, y_pred, pos_label=1)\n",
    "precision_negative = metrics.precision_score(y_test, y_pred, pos_label=-1)\n",
    "print(\"precission:  \" + str(precision_positive) ,  str(precision_negative))\n",
    "\n",
    "recall_sensitivity = metrics.recall_score(y_test, y_pred, pos_label=1)\n",
    "recall_specificity = metrics.recall_score(y_test, y_pred, pos_label=-1)\n",
    "print(\"recall:  \" + str(recall_sensitivity), str(recall_specificity))\n",
    "\n",
    "f1_positive = metrics.f1_score(y_test, y_pred, pos_label=1)\n",
    "f1_negative = metrics.f1_score(y_test, y_pred, pos_label=-1)\n",
    "print(\"f1 score:  \" + str(f1_positive), str(f1_negative)) "
   ]
  },
  {
   "cell_type": "code",
   "execution_count": 5,
   "id": "39bb9216",
   "metadata": {},
   "outputs": [
    {
     "name": "stdout",
     "output_type": "stream",
     "text": [
      "accuracy:  0.8731563421828908\n",
      "precission:  0.8881987577639752 0.8595505617977528\n",
      "recall:  0.8511904761904762 0.8947368421052632\n",
      "f1 score:  0.8693009118541033 0.8767908309455587\n"
     ]
    }
   ],
   "source": [
    "#TODO : Do Scikit-Learn implementation of AdaBoost and print evaluation metrics\n",
    "from sklearn.ensemble import AdaBoostClassifier\n",
    "\n",
    "abc = AdaBoostClassifier(n_estimators=100, learning_rate=1)\n",
    "\n",
    "model = abc.fit(x_train, y_train)\n",
    "\n",
    "y_pred = model.predict(x_test)\n",
    "\n",
    "accuracy = metrics.accuracy_score(y_test, y_pred)\n",
    "print(\"accuracy:  \" + str(accuracy))\n",
    "precision_positive = metrics.precision_score(y_test, y_pred, pos_label=1)\n",
    "precision_negative = metrics.precision_score(y_test, y_pred, pos_label=-1)\n",
    "print(\"precission:  \" + str(precision_positive) ,  str(precision_negative))\n",
    "\n",
    "recall_sensitivity = metrics.recall_score(y_test, y_pred, pos_label=1)\n",
    "recall_specificity = metrics.recall_score(y_test, y_pred, pos_label=-1)\n",
    "print(\"recall:  \" + str(recall_sensitivity), str(recall_specificity))\n",
    "\n",
    "f1_positive = metrics.f1_score(y_test, y_pred, pos_label=1)\n",
    "f1_negative = metrics.f1_score(y_test, y_pred, pos_label=-1)\n",
    "print(\"f1 score:  \" + str(f1_positive), str(f1_negative)) \n"
   ]
  },
  {
   "cell_type": "markdown",
   "id": "e8fdcb6d",
   "metadata": {},
   "source": [
    "### Early Stopping (15 points)"
   ]
  },
  {
   "cell_type": "code",
   "execution_count": 6,
   "id": "ac86c294",
   "metadata": {},
   "outputs": [],
   "source": [
    "#TODO : Calculate validation error for different number of estimators \n",
    "estimators = []\n",
    "error = []\n",
    "for i in range(10, 1000, 10):\n",
    "    adaBoost = AdaBoost()\n",
    "    adaBoost.fit(x_train.to_numpy(), y_train.to_numpy(), i)\n",
    "    y_pred = adaBoost.predict(x_test.to_numpy())\n",
    "    accuracy = metrics.accuracy_score(y_test, y_pred)\n",
    "    estimators.append(i)\n",
    "    error.append(1 - accuracy)"
   ]
  },
  {
   "cell_type": "code",
   "execution_count": 7,
   "id": "d6e06fea",
   "metadata": {},
   "outputs": [
    {
     "data": {
      "text/plain": [
       "[<matplotlib.lines.Line2D at 0x182cefdcd30>]"
      ]
     },
     "execution_count": 7,
     "metadata": {},
     "output_type": "execute_result"
    },
    {
     "data": {
      "image/png": "[encoded data removed]",
      "text/plain": [
       "<Figure size 432x288 with 1 Axes>"
      ]
     },
     "metadata": {
      "needs_background": "light"
     },
     "output_type": "display_data"
    }
   ],
   "source": [
    "#TODO : Plot validation error versus number of estimators figure.\n",
    "\n",
    "plt.plot(estimators, error)"
   ]
  },
  {
   "cell_type": "code",
   "execution_count": 9,
   "id": "cdfac096",
   "metadata": {},
   "outputs": [
    {
     "name": "stdout",
     "output_type": "stream",
     "text": [
      "error: 0.08554572271386429\n",
      "estimators: 830\n"
     ]
    }
   ],
   "source": [
    "#TODO : Print the best number for estimators and minimum value for validation error.\n",
    "\n",
    "print(\"error: \" + str(min(error)))\n",
    "print(\"estimators: \" + str(estimators[error.index(min(error))]))"
   ]
  },
  {
   "cell_type": "markdown",
   "id": "ec46a972",
   "metadata": {},
   "source": [
    "### Weighted Error (10 points)"
   ]
  },
  {
   "cell_type": "code",
   "execution_count": 10,
   "id": "7471664f",
   "metadata": {},
   "outputs": [
    {
     "data": {
      "text/plain": [
       "[<matplotlib.lines.Line2D at 0x182cdf17490>]"
      ]
     },
     "execution_count": 10,
     "metadata": {},
     "output_type": "execute_result"
    },
    {
     "data": {
      "image/png": "[encoded data removed]",
      "text/plain": [
       "<Figure size 432x288 with 1 Axes>"
      ]
     },
     "metadata": {
      "needs_background": "light"
     },
     "output_type": "display_data"
    }
   ],
   "source": [
    "#TODO : Plot weighted training error versus number of estimators figure using training_errors attribute in Adaboost class.\n",
    "\n",
    "estimators = []\n",
    "error = []\n",
    "#for i in range(50, 1000, 50):\n",
    "adaBoost = AdaBoost()\n",
    "adaBoost.fit(x_train.to_numpy(), y_train.to_numpy(), 100)\n",
    "error.append(adaBoost.training_errors[-1])\n",
    "for i in range(1, 101):\n",
    "    estimators.append(i)\n",
    "plt.plot(estimators, adaBoost.training_errors)"
   ]
  },
  {
   "cell_type": "markdown",
   "id": "22f513e8",
   "metadata": {},
   "source": [
    "### Question : Why does the weighted error tend to increase as the number of estimators increase? (5points)"
   ]
  },
  {
   "cell_type": "code",
   "execution_count": null,
   "id": "ef5055b8",
   "metadata": {},
   "outputs": [],
   "source": [
    "# we normalize sample weights in each loop\n",
    "# by increasing number of classifiers, nominator of the fraction increases but denominator is fixed(1) \n",
    "# so the error will increase"
   ]
  }
 ],
 "metadata": {
  "kernelspec": {
   "display_name": "Python 3 (ipykernel)",
   "language": "python",
   "name": "python3"
  },
  "language_info": {
   "codemirror_mode": {
    "name": "ipython",
    "version": 3
   },
   "file_extension": ".py",
   "mimetype": "text/x-python",
   "name": "python",
   "nbconvert_exporter": "python",
   "pygments_lexer": "ipython3",
   "version": "3.9.9"
  }
 },
 "nbformat": 4,
 "nbformat_minor": 5
}
