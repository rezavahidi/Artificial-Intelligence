{
  "cells": [
    {
      "cell_type": "markdown",
      "metadata": {
        "id": "sSfrEakioA3t"
      },
      "source": [
        "<img src='http://www-scf.usc.edu/~ghasemig/images/sharif.png' alt=\"SUT logo\" width=200 height=200 align=left class=\"saturate\" >\n",
        "\n",
        "<br>\n",
        "<font face=\"Times New Roman\">\n",
        "<div dir=ltr align=center>\n",
        "<font color=0F5298 size=7>\n",
        "    Introduction to Machine Learning <br>\n",
        "<font color=2565AE size=5>\n",
        "    Computer Engineering Department <br>\n",
        "    Fall 2022<br>\n",
        "<font color=3C99D size=5>\n",
        "    Homework 3: Practical - Neural Network <br>\n",
        "<font color=696880 size=4>\n",
        "    Alireza Belal\n",
        "    \n",
        "    \n",
        "____\n"
      ]
    },
    {
      "cell_type": "markdown",
      "metadata": {
        "id": "sQRwD0avoA3w"
      },
      "source": [
        "### Full Name : Reza Vahidimajd\n",
        "### Student Number : 99102491\n",
        "___"
      ]
    },
    {
      "cell_type": "markdown",
      "metadata": {
        "id": "bbeiwG_eoA3y"
      },
      "source": [
        "# Setup"
      ]
    },
    {
      "cell_type": "markdown",
      "metadata": {
        "id": "mBXJRRmkoA3z"
      },
      "source": [
        "# 0. Preparation\n",
        "\n",
        "In this part, you will use a dataset related to COVID-19. Load your dataset using pandas."
      ]
    },
    {
      "cell_type": "code",
      "execution_count": 3,
      "metadata": {
        "id": "umHFH0gloA31"
      },
      "outputs": [],
      "source": [
        "import pandas as pd\n",
        "from sklearn.preprocessing import LabelEncoder\n",
        "covid_data = pd.read_csv('Covid Dataset.csv')\n",
        "categorical_feature_mask = covid_data.dtypes == object\n",
        "cateforical_cols = covid_data.columns[categorical_feature_mask].tolist()\n",
        "le = LabelEncoder()\n",
        "covid_data[cateforical_cols] = covid_data[cateforical_cols].apply(lambda col: le.fit_transform(col))\n",
        "covid_data = covid_data.astype(float)\n",
        "\n",
        "# Extract X and Y from the dataset\n",
        "X_total = covid_data.iloc[:, 0:20].values\n",
        "y_total = covid_data.iloc[:,20].values\n",
        "\n",
        "\n",
        "#SPLIT THE DATA INTO TRAIN AND TEST DATA \n",
        "from sklearn.model_selection import train_test_split\n",
        "X_train, X_test, y_train, y_test = train_test_split(X_total, y_total, test_size = 0.3, random_state = 0)"
      ]
    },
    {
      "cell_type": "markdown",
      "metadata": {
        "id": "iEGM61G9oA33"
      },
      "source": [
        "---------------"
      ]
    },
    {
      "cell_type": "markdown",
      "metadata": {
        "id": "JJcdi1yioA34"
      },
      "source": [
        "# 1. DNN as nonlinear dimensionality reduction method (50 Points)\n",
        "\n",
        "Autoencoder is an unsupervised artificial neural network that compresses the data to lower dimension and then reconstructs the input back. Autoencoder finds the representation of the data in a lower dimension by focusing more on the important features getting rid of noise and redundancy. It's based on Encoder-Decoder architecture, where encoder encodes the high-dimensional data to lower-dimension and decoder takes the lower-dimensional data and tries to reconstruct the original high-dimensional data.\n",
        "\n",
        "![picture](https://drive.google.com/uc?id=1RTZwx4xL6zFV_nUENBgWlFKLKldPoyI-)\n",
        "\n",
        "In the above Diagram, X is the input data, z is the lower-dimension representation of input X and X’ is the reconstructed input data. The mapping of higher to lower dimensions can be linear or non-linear depending on the choice of the activation function.\n",
        "\n",
        "In this part you're gonna implement an autoencoder using Keras framework as dimensionally reduction module as explained [here](https://blog.keras.io/building-autoencoders-in-keras.html).\n",
        "(It would be ok to use PyTorch as well.)\n",
        "Reduce the dimension of the data to 2 dimensions and visualize the low-dimensional data."
      ]
    },
    {
      "cell_type": "code",
      "execution_count": 32,
      "metadata": {
        "id": "moGEgpV999cl"
      },
      "outputs": [],
      "source": [
        "# import necessary libraries\n",
        "from keras.models import Sequential\n",
        "from keras.layers import Dense\n",
        "from keras.layers import *\n",
        "from keras import layers\n",
        "import keras\n",
        "import matplotlib.pyplot as plt\n"
      ]
    },
    {
      "cell_type": "code",
      "execution_count": 33,
      "metadata": {
        "id": "PBs06Q_coA36"
      },
      "outputs": [],
      "source": [
        "# define layers (25 Points)\n",
        "model1 = Sequential()\n",
        "model2 = Sequential()\n",
        "\n",
        "model1.add(Dense(14, input_dim=20, activation='relu'))\n",
        "model1.add(Dense(8, activation='relu'))\n",
        "model1.add(Dense(2, activation='relu'))\n",
        "model2.add(Dense(8, activation='relu'))\n",
        "model2.add(Dense(14, activation='relu'))\n",
        "model2.add(Dense(20, activation='sigmoid'))\n",
        "\n",
        "model = Sequential([model1, model2])\n",
        "\n",
        "model.compile(loss='mean_squared_error', optimizer='adam')\n",
        "\n"
      ]
    },
    {
      "cell_type": "code",
      "execution_count": 34,
      "metadata": {
        "colab": {
          "base_uri": "https://localhost:8080/"
        },
        "id": "xAni_kT2oA38",
        "outputId": "16d3f66c-8480-4cae-ee9d-13f243139419"
      },
      "outputs": [
        {
          "output_type": "stream",
          "name": "stdout",
          "text": [
            "Epoch 1/2\n",
            "39/39 [==============================] - 2s 19ms/step - loss: 0.2446 - val_loss: 0.2373\n",
            "Epoch 2/2\n",
            "39/39 [==============================] - 0s 8ms/step - loss: 0.2265 - val_loss: 0.2154\n",
            "51/51 [==============================] - 0s 3ms/step\n"
          ]
        }
      ],
      "source": [
        "# train the model and reduce the dimension of the data (15 Points)\n",
        "\n",
        "model.fit(X_train, X_train, validation_data=(X_test, X_test), epochs=2, batch_size=100)\n",
        "latent = model1.predict(X_test)\n"
      ]
    },
    {
      "cell_type": "code",
      "execution_count": 35,
      "metadata": {
        "colab": {
          "base_uri": "https://localhost:8080/",
          "height": 265
        },
        "id": "SJcLxK0QoA38",
        "outputId": "118c9925-c1c6-404f-ba5d-f418f3836097"
      },
      "outputs": [
        {
          "output_type": "display_data",
          "data": {
            "text/plain": [
              "<Figure size 432x288 with 1 Axes>"
            ],
            "image/png": "[encoded data removed]"
          },
          "metadata": {
            "needs_background": "light"
          }
        }
      ],
      "source": [
        "# Plot the encoded data (10 Points)\n",
        "\n",
        "plt.scatter(latent[:, 0], latent[:, 1])\n",
        "plt.show()"
      ]
    }
  ],
  "metadata": {
    "colab": {
      "provenance": []
    },
    "kernelspec": {
      "display_name": "Python 3 (ipykernel)",
      "language": "python",
      "name": "python3"
    },
    "language_info": {
      "codemirror_mode": {
        "name": "ipython",
        "version": 3
      },
      "file_extension": ".py",
      "mimetype": "text/x-python",
      "name": "python",
      "nbconvert_exporter": "python",
      "pygments_lexer": "ipython3",
      "version": "3.9.7"
    },
    "vscode": {
      "interpreter": {
        "hash": "81794d4967e6c3204c66dcd87b604927b115b27c00565d3d43f05ba2f3a2cb0d"
      }
    }
  },
  "nbformat": 4,
  "nbformat_minor": 0
}